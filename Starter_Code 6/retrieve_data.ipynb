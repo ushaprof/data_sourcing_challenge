{
 "cells": [
  {
   "cell_type": "markdown",
   "metadata": {},
   "source": [
    "### Import Required Libraries and Set Up Environment Variables"
   ]
  },
  {
   "cell_type": "code",
   "execution_count": 2,
   "metadata": {},
   "outputs": [],
   "source": [
    "# Dependencies\n",
    "import requests\n",
    "import time\n",
    "from dotenv import load_dotenv\n",
    "import os\n",
    "import pandas as pd\n",
    "import json\n",
    "import os\n",
    "from datetime import datetime\n",
    "import os\n",
    "# Load environment variables from .env file\n",
    "load_dotenv()  \n",
    "# Retrieve the API key\n",
    "NASA_API_KEY = os.getenv(\"NASA_API_KEY\")\n",
    "  \n",
    "\n",
    "\n"
   ]
  },
  {
   "cell_type": "code",
   "execution_count": null,
   "metadata": {},
   "outputs": [],
   "source": []
  },
  {
   "cell_type": "markdown",
   "metadata": {},
   "source": [
    "### CME Data"
   ]
  },
  {
   "cell_type": "code",
   "execution_count": 3,
   "metadata": {},
   "outputs": [],
   "source": [
    "# Set the base URL to NASA's DONKI API:\n",
    "base_url = \"https://api.nasa.gov/DONKI/\"\n",
    "\n",
    "\n",
    "# Set the specifier for CMEs:\n",
    "CME = \"CME\"\n",
    "\n",
    "# Search for CMEs published between a begin and end date\n",
    "startDate = \"2013-05-01\"\n",
    "endDate   = \"2024-05-01\"\n",
    "\n",
    "# Build URL for CME\n",
    "url = f\"{base_url}{CME}?startDate={startDate}&endDate={endDate}&api_key={NASA_API_KEY}\"\n",
    "\n",
    "\n"
   ]
  },
  {
   "cell_type": "code",
   "execution_count": 4,
   "metadata": {},
   "outputs": [],
   "source": [
    "# Make a \"GET\" request for the CME URL and store it in a variable named cme_response\n",
    "cme_response = requests.get(url)\n",
    "\n",
    "\n",
    "\n"
   ]
  },
  {
   "cell_type": "code",
   "execution_count": 5,
   "metadata": {},
   "outputs": [],
   "source": [
    "# Convert the response variable to json and store it as a variable named cme_json\n",
    "cme_json = cme_response.json()\n",
    "\n",
    "\n",
    "\n"
   ]
  },
  {
   "cell_type": "code",
   "execution_count": 6,
   "metadata": {
    "scrolled": true
   },
   "outputs": [
    {
     "name": "stdout",
     "output_type": "stream",
     "text": [
      "{\n",
      "    \"activeRegionNum\": null,\n",
      "    \"activityID\": \"2013-05-13T02:54:00-CME-001\",\n",
      "    \"catalog\": \"M2M_CATALOG\",\n",
      "    \"cmeAnalyses\": [\n",
      "        {\n",
      "            \"enlilList\": [\n",
      "                {\n",
      "                    \"au\": 2.0,\n",
      "                    \"cmeIDs\": [\n",
      "                        \"2013-05-13T02:54:00-CME-001\"\n",
      "                    ],\n",
      "                    \"estimatedDuration\": null,\n",
      "                    \"estimatedShockArrivalTime\": null,\n",
      "                    \"impactList\": null,\n",
      "                    \"isEarthGB\": false,\n",
      "                    \"kp_135\": null,\n",
      "                    \"kp_18\": null,\n",
      "                    \"kp_180\": null,\n",
      "                    \"kp_90\": null,\n",
      "                    \"link\": \"https://webtools.ccmc.gsfc.nasa.gov/DONKI/view/WSA-ENLIL/2416/-1\",\n",
      "                    \"modelCompletionTime\": \"2013-05-13T01:36Z\",\n",
      "                    \"rmin_re\": null\n",
      "                },\n",
      "                {\n",
      "                    \"au\": 2.0,\n",
      "                    \"cmeIDs\": [\n",
      "                        \"2013-05-13T02:54:00-CME-001\",\n",
      "                        \"2013-05-13T08:54:00-CME-001\",\n",
      "                        \"2013-05-13T08:54:00-CME-002\"\n",
      "                    ],\n",
      "                    \"estimatedDuration\": null,\n",
      "                    \"estimatedShockArrivalTime\": null,\n",
      "                    \"impactList\": [\n",
      "                        {\n",
      "                            \"arrivalTime\": \"2013-05-15T16:31Z\",\n",
      "                            \"isGlancingBlow\": false,\n",
      "                            \"location\": \"Spitzer\"\n",
      "                        }\n",
      "                    ],\n",
      "                    \"isEarthGB\": false,\n",
      "                    \"kp_135\": null,\n",
      "                    \"kp_18\": null,\n",
      "                    \"kp_180\": null,\n",
      "                    \"kp_90\": null,\n",
      "                    \"link\": \"https://webtools.ccmc.gsfc.nasa.gov/DONKI/view/WSA-ENLIL/2419/-1\",\n",
      "                    \"modelCompletionTime\": \"2013-05-13T10:51Z\",\n",
      "                    \"rmin_re\": null\n",
      "                },\n",
      "                {\n",
      "                    \"au\": 2.0,\n",
      "                    \"cmeIDs\": [\n",
      "                        \"2013-05-13T02:54:00-CME-001\",\n",
      "                        \"2013-05-13T08:54:00-CME-001\",\n",
      "                        \"2013-05-13T16:18:00-CME-001\",\n",
      "                        \"2013-05-13T08:54:00-CME-002\"\n",
      "                    ],\n",
      "                    \"estimatedDuration\": null,\n",
      "                    \"estimatedShockArrivalTime\": null,\n",
      "                    \"impactList\": [\n",
      "                        {\n",
      "                            \"arrivalTime\": \"2013-05-15T05:51Z\",\n",
      "                            \"isGlancingBlow\": false,\n",
      "                            \"location\": \"Spitzer\"\n",
      "                        }\n",
      "                    ],\n",
      "                    \"isEarthGB\": false,\n",
      "                    \"kp_135\": null,\n",
      "                    \"kp_18\": null,\n",
      "                    \"kp_180\": null,\n",
      "                    \"kp_90\": null,\n",
      "                    \"link\": \"https://webtools.ccmc.gsfc.nasa.gov/DONKI/view/WSA-ENLIL/2427/-1\",\n",
      "                    \"modelCompletionTime\": \"2013-05-13T14:39Z\",\n",
      "                    \"rmin_re\": null\n",
      "                },\n",
      "                {\n",
      "                    \"au\": 2.0,\n",
      "                    \"cmeIDs\": [\n",
      "                        \"2013-05-13T02:54:00-CME-001\",\n",
      "                        \"2013-05-13T08:54:00-CME-001\",\n",
      "                        \"2013-05-13T16:18:00-CME-001\",\n",
      "                        \"2013-05-13T08:54:00-CME-002\",\n",
      "                        \"2013-05-14T01:30:00-CME-001\"\n",
      "                    ],\n",
      "                    \"estimatedDuration\": null,\n",
      "                    \"estimatedShockArrivalTime\": null,\n",
      "                    \"impactList\": null,\n",
      "                    \"isEarthGB\": false,\n",
      "                    \"kp_135\": null,\n",
      "                    \"kp_18\": null,\n",
      "                    \"kp_180\": null,\n",
      "                    \"kp_90\": null,\n",
      "                    \"link\": \"https://webtools.ccmc.gsfc.nasa.gov/DONKI/view/WSA-ENLIL/2946/-1\",\n",
      "                    \"modelCompletionTime\": \"2013-05-14T00:02Z\",\n",
      "                    \"rmin_re\": null\n",
      "                },\n",
      "                {\n",
      "                    \"au\": 2.0,\n",
      "                    \"cmeIDs\": [\n",
      "                        \"2013-05-13T02:54:00-CME-001\",\n",
      "                        \"2013-05-13T08:54:00-CME-001\",\n",
      "                        \"2013-05-13T16:18:00-CME-001\",\n",
      "                        \"2013-05-13T08:54:00-CME-002\",\n",
      "                        \"2013-05-14T01:30:00-CME-001\"\n",
      "                    ],\n",
      "                    \"estimatedDuration\": null,\n",
      "                    \"estimatedShockArrivalTime\": null,\n",
      "                    \"impactList\": null,\n",
      "                    \"isEarthGB\": false,\n",
      "                    \"kp_135\": null,\n",
      "                    \"kp_18\": null,\n",
      "                    \"kp_180\": null,\n",
      "                    \"kp_90\": null,\n",
      "                    \"link\": \"https://webtools.ccmc.gsfc.nasa.gov/DONKI/view/WSA-ENLIL/2431/-1\",\n",
      "                    \"modelCompletionTime\": \"2013-05-14T00:02Z\",\n",
      "                    \"rmin_re\": null\n",
      "                },\n",
      "                {\n",
      "                    \"au\": 2.0,\n",
      "                    \"cmeIDs\": [\n",
      "                        \"2013-05-13T02:54:00-CME-001\",\n",
      "                        \"2013-05-13T16:18:00-CME-001\",\n",
      "                        \"2013-05-14T01:30:00-CME-001\"\n",
      "                    ],\n",
      "                    \"estimatedDuration\": null,\n",
      "                    \"estimatedShockArrivalTime\": null,\n",
      "                    \"impactList\": [\n",
      "                        {\n",
      "                            \"arrivalTime\": \"2013-05-15T06:39Z\",\n",
      "                            \"isGlancingBlow\": false,\n",
      "                            \"location\": \"Spitzer\"\n",
      "                        }\n",
      "                    ],\n",
      "                    \"isEarthGB\": false,\n",
      "                    \"kp_135\": null,\n",
      "                    \"kp_18\": null,\n",
      "                    \"kp_180\": null,\n",
      "                    \"kp_90\": null,\n",
      "                    \"link\": \"https://webtools.ccmc.gsfc.nasa.gov/DONKI/view/WSA-ENLIL/2437/-1\",\n",
      "                    \"modelCompletionTime\": \"2013-05-14T00:29Z\",\n",
      "                    \"rmin_re\": null\n",
      "                }\n",
      "            ],\n",
      "            \"featureCode\": \"null\",\n",
      "            \"halfAngle\": 30.0,\n",
      "            \"imageType\": null,\n",
      "            \"isMostAccurate\": true,\n",
      "            \"latitude\": 20.0,\n",
      "            \"levelOfData\": 0,\n",
      "            \"link\": \"https://webtools.ccmc.gsfc.nasa.gov/DONKI/view/CMEAnalysis/222/-1\",\n",
      "            \"longitude\": -94.0,\n",
      "            \"measurementTechnique\": \"null\",\n",
      "            \"minorHalfWidth\": null,\n",
      "            \"note\": \"\",\n",
      "            \"speed\": 1200.0,\n",
      "            \"speedMeasuredAtHeight\": null,\n",
      "            \"submissionTime\": \"2013-07-15T17:28Z\",\n",
      "            \"tilt\": null,\n",
      "            \"time21_5\": \"2013-05-13T05:11Z\",\n",
      "            \"type\": \"O\"\n",
      "        }\n",
      "    ],\n",
      "    \"instruments\": [\n",
      "        {\n",
      "            \"displayName\": \"STEREO A: SECCHI/COR2\"\n",
      "        },\n",
      "        {\n",
      "            \"displayName\": \"STEREO B: SECCHI/COR2\"\n",
      "        }\n",
      "    ],\n",
      "    \"link\": \"https://webtools.ccmc.gsfc.nasa.gov/DONKI/view/CME/221/-1\",\n",
      "    \"linkedEvents\": [\n",
      "        {\n",
      "            \"activityID\": \"2013-05-13T01:53:00-FLR-001\"\n",
      "        },\n",
      "        {\n",
      "            \"activityID\": \"2013-05-13T04:12:00-SEP-001\"\n",
      "        }\n",
      "    ],\n",
      "    \"note\": \"\",\n",
      "    \"sourceLocation\": \"N20E94\",\n",
      "    \"startTime\": \"2013-05-13T02:54Z\",\n",
      "    \"submissionTime\": \"2013-07-15T17:27Z\",\n",
      "    \"versionId\": 1\n",
      "}\n"
     ]
    }
   ],
   "source": [
    "# Preview the first result in JSON format\n",
    "\n",
    "# Use json.dumps with argument indent=4 to format data\n",
    "print(json.dumps(cme_json[10], indent=4, sort_keys=True))\n",
    "\n",
    "\n"
   ]
  },
  {
   "cell_type": "code",
   "execution_count": 7,
   "metadata": {},
   "outputs": [
    {
     "name": "stdout",
     "output_type": "stream",
     "text": [
      "                    activityID          startTime  \\\n",
      "0  2013-05-01T03:12:00-CME-001  2013-05-01T03:12Z   \n",
      "1  2013-05-02T05:24:00-CME-001  2013-05-02T05:24Z   \n",
      "2  2013-05-02T14:36:00-CME-001  2013-05-02T14:36Z   \n",
      "3  2013-05-03T18:00:00-CME-001  2013-05-03T18:00Z   \n",
      "4  2013-05-03T22:36:00-CME-001  2013-05-03T22:36Z   \n",
      "\n",
      "                                      linkedEvents  \n",
      "0  [{'activityID': '2013-05-04T04:52:00-IPS-001'}]  \n",
      "1                                             None  \n",
      "2                                             None  \n",
      "3                                             None  \n",
      "4  [{'activityID': '2013-05-07T04:37:00-IPS-001'}]  \n"
     ]
    }
   ],
   "source": [
    "# Convert cme_json to a Pandas DataFrame \n",
    "cme_df = pd.DataFrame(cme_json)\n",
    "\n",
    "\n",
    "# Keep only the columns: activityID, startTime, linkedEvents\n",
    "cme_df = cme_df[[\"activityID\", \"startTime\", \"linkedEvents\"]]\n",
    "print(cme_df.head())\n"
   ]
  },
  {
   "cell_type": "code",
   "execution_count": 8,
   "metadata": {},
   "outputs": [
    {
     "name": "stdout",
     "output_type": "stream",
     "text": [
      "                     activityID          startTime  \\\n",
      "0   2013-05-01T03:12:00-CME-001  2013-05-01T03:12Z   \n",
      "4   2013-05-03T22:36:00-CME-001  2013-05-03T22:36Z   \n",
      "7   2013-05-09T19:29:00-CME-001  2013-05-09T19:29Z   \n",
      "10  2013-05-13T02:54:00-CME-001  2013-05-13T02:54Z   \n",
      "13  2013-05-13T16:18:00-CME-001  2013-05-13T16:18Z   \n",
      "\n",
      "                                         linkedEvents  \n",
      "0     [{'activityID': '2013-05-04T04:52:00-IPS-001'}]  \n",
      "4     [{'activityID': '2013-05-07T04:37:00-IPS-001'}]  \n",
      "7     [{'activityID': '2013-05-12T23:30:00-IPS-001'}]  \n",
      "10  [{'activityID': '2013-05-13T01:53:00-FLR-001'}...  \n",
      "13  [{'activityID': '2013-05-13T15:40:00-FLR-001'}...  \n"
     ]
    }
   ],
   "source": [
    "# Notice that the linkedEvents column allows us to identify the corresponding GST\n",
    "# We will need to extract the GST from the linkedEvents column\n",
    "# Let's preview the first row in the linkedEvents column\n",
    "\n",
    "\n",
    "# Remove rows with missing 'linkedEvents' since we won't be able to assign these to GSTs\n",
    "cme_df = cme_df.dropna(subset=[\"linkedEvents\"])\n",
    "print(cme_df.head())\n"
   ]
  },
  {
   "cell_type": "code",
   "execution_count": 9,
   "metadata": {},
   "outputs": [
    {
     "name": "stdout",
     "output_type": "stream",
     "text": [
      "                    activityID          startTime  \\\n",
      "0  2013-05-01T03:12:00-CME-001  2013-05-01T03:12Z   \n",
      "1  2013-05-03T22:36:00-CME-001  2013-05-03T22:36Z   \n",
      "2  2013-05-09T19:29:00-CME-001  2013-05-09T19:29Z   \n",
      "3  2013-05-13T02:54:00-CME-001  2013-05-13T02:54Z   \n",
      "4  2013-05-13T02:54:00-CME-001  2013-05-13T02:54Z   \n",
      "\n",
      "                                     linkedEvent  \n",
      "0  {'activityID': '2013-05-04T04:52:00-IPS-001'}  \n",
      "1  {'activityID': '2013-05-07T04:37:00-IPS-001'}  \n",
      "2  {'activityID': '2013-05-12T23:30:00-IPS-001'}  \n",
      "3  {'activityID': '2013-05-13T01:53:00-FLR-001'}  \n",
      "4  {'activityID': '2013-05-13T04:12:00-SEP-001'}  \n"
     ]
    }
   ],
   "source": [
    "# Notice that the linkedEvents sometimes contains multiple events per row\n",
    "# We will need to expand these rows into multiple rows\n",
    "# Let's preview the first row in the linkedEvents column\n",
    "\n",
    "\n",
    "\n",
    "# Write a nested for loop that iterates first over each row in the cme DataFrame (using the index)\n",
    "# and then iterates over the values in 'linkedEvents' column for each row\n",
    "# and adds the elements individually to a list of dictionaries where each row is one element \n",
    "# with the corresponding 'activityID' and 'startTime' value\n",
    "\n",
    "\n",
    "\n",
    "# Initialize an empty list to store the expanded rows\n",
    "expanded_rows = []\n",
    "\n",
    "# Iterate over each index in the DataFrame\n",
    "for index in cme_df.index:\n",
    "    activityID = cme_df.loc[index,\"activityID\"]\n",
    "    startTime = cme_df.loc[index,\"startTime\"]\n",
    "    linkedEvents = cme_df.loc[index,\"linkedEvents\"]\n",
    "\n",
    "    # Iterate over each dictionary in the list\n",
    "    for item in linkedEvents:\n",
    "    \n",
    "        # Append a new dictionary to the expanded_rows list for each dictionary item and corresponding 'activityID' and 'startTime' value\n",
    "        expanded_rows.append({\"activityID\": activityID, \"startTime\": startTime, \"linkedEvent\": item})\n",
    "     \n",
    "      \n",
    "# Create a new DataFrame from the expanded rows\n",
    "expanded_df = pd.DataFrame(expanded_rows)\n",
    "print(expanded_df.head())\n"
   ]
  },
  {
   "cell_type": "code",
   "execution_count": 10,
   "metadata": {},
   "outputs": [
    {
     "name": "stdout",
     "output_type": "stream",
     "text": [
      "2013-05-04T04:52:00-IPS-001\n"
     ]
    }
   ],
   "source": [
    "# Create a function called extract_activityID_from_dict that takes a dict as input such as in linkedEvents\n",
    "# and verify below that it works as expected using one row from linkedEvents as an example\n",
    "# Be sure to use a try and except block to handle errors\n",
    "def extract_activityID_from_dict(dict):\n",
    "        try:\n",
    "            activityID = dict.get(\"activityID\", None)\n",
    "            return activityID\n",
    "\n",
    "        # Log the error or print it for debugging\n",
    "        except KeyError:\n",
    "            print(f\"Error: {dict}\")\n",
    "            return None\n",
    "        \n",
    "# Test the function with one row from the linkedEvents column\n",
    "print(extract_activityID_from_dict(expanded_df.loc[0,\"linkedEvent\"]))\n",
    "\n",
    "\n",
    "\n"
   ]
  },
  {
   "cell_type": "code",
   "execution_count": 11,
   "metadata": {},
   "outputs": [
    {
     "name": "stdout",
     "output_type": "stream",
     "text": [
      "                    activityID          startTime  \\\n",
      "0  2013-05-01T03:12:00-CME-001  2013-05-01T03:12Z   \n",
      "1  2013-05-03T22:36:00-CME-001  2013-05-03T22:36Z   \n",
      "2  2013-05-09T19:29:00-CME-001  2013-05-09T19:29Z   \n",
      "3  2013-05-13T02:54:00-CME-001  2013-05-13T02:54Z   \n",
      "4  2013-05-13T02:54:00-CME-001  2013-05-13T02:54Z   \n",
      "\n",
      "                                     linkedEvent               GST_ActivityID  \n",
      "0  {'activityID': '2013-05-04T04:52:00-IPS-001'}  2013-05-04T04:52:00-IPS-001  \n",
      "1  {'activityID': '2013-05-07T04:37:00-IPS-001'}  2013-05-07T04:37:00-IPS-001  \n",
      "2  {'activityID': '2013-05-12T23:30:00-IPS-001'}  2013-05-12T23:30:00-IPS-001  \n",
      "3  {'activityID': '2013-05-13T01:53:00-FLR-001'}  2013-05-13T01:53:00-FLR-001  \n",
      "4  {'activityID': '2013-05-13T04:12:00-SEP-001'}  2013-05-13T04:12:00-SEP-001  \n"
     ]
    }
   ],
   "source": [
    "# Apply this function to each row in the 'linkedEvents' column (you can use apply() and a lambda function)\n",
    "expanded_df.loc[:,\"GST_ActivityID\"] = expanded_df[\"linkedEvent\"].apply(lambda x: extract_activityID_from_dict(x))\n",
    "# and create a new column called 'GST_ActivityID' using loc indexer:\n",
    "print(expanded_df.head())\n",
    "\n"
   ]
  },
  {
   "cell_type": "code",
   "execution_count": 12,
   "metadata": {},
   "outputs": [
    {
     "name": "stdout",
     "output_type": "stream",
     "text": [
      "                    activityID          startTime  \\\n",
      "0  2013-05-01T03:12:00-CME-001  2013-05-01T03:12Z   \n",
      "1  2013-05-03T22:36:00-CME-001  2013-05-03T22:36Z   \n",
      "2  2013-05-09T19:29:00-CME-001  2013-05-09T19:29Z   \n",
      "3  2013-05-13T02:54:00-CME-001  2013-05-13T02:54Z   \n",
      "4  2013-05-13T02:54:00-CME-001  2013-05-13T02:54Z   \n",
      "\n",
      "                                     linkedEvent               GST_ActivityID  \n",
      "0  {'activityID': '2013-05-04T04:52:00-IPS-001'}  2013-05-04T04:52:00-IPS-001  \n",
      "1  {'activityID': '2013-05-07T04:37:00-IPS-001'}  2013-05-07T04:37:00-IPS-001  \n",
      "2  {'activityID': '2013-05-12T23:30:00-IPS-001'}  2013-05-12T23:30:00-IPS-001  \n",
      "3  {'activityID': '2013-05-13T01:53:00-FLR-001'}  2013-05-13T01:53:00-FLR-001  \n",
      "4  {'activityID': '2013-05-13T04:12:00-SEP-001'}  2013-05-13T04:12:00-SEP-001  \n"
     ]
    }
   ],
   "source": [
    "# Remove rows with missing GST_ActivityID, since we can't assign them to GSTs:\n",
    "expanded_df = expanded_df.dropna(subset=[\"GST_ActivityID\"])\n",
    "print(expanded_df.head())\n",
    "\n"
   ]
  },
  {
   "cell_type": "code",
   "execution_count": 13,
   "metadata": {},
   "outputs": [
    {
     "name": "stdout",
     "output_type": "stream",
     "text": [
      "activityID        object\n",
      "startTime         object\n",
      "linkedEvent       object\n",
      "GST_ActivityID    object\n",
      "dtype: object\n"
     ]
    }
   ],
   "source": [
    "# print out the datatype of each column in this DataFrame:\n",
    "print(expanded_df.dtypes)\n",
    "\n"
   ]
  },
  {
   "cell_type": "code",
   "execution_count": 14,
   "metadata": {},
   "outputs": [
    {
     "name": "stdout",
     "output_type": "stream",
     "text": [
      "cmeID                          object\n",
      "startTime_CME     datetime64[ns, UTC]\n",
      "GST_ActivityID         string[python]\n",
      "dtype: object\n"
     ]
    }
   ],
   "source": [
    "# Convert the 'GST_ActivityID' column to string format \n",
    "expanded_df[\"GST_ActivityID\"] = expanded_df[\"GST_ActivityID\"].astype(\"string\")\n",
    "\n",
    "\n",
    "# Convert startTime to datetime format \n",
    "expanded_df[\"startTime\"] = pd.to_datetime(expanded_df[\"startTime\"])\n",
    "\n",
    "\n",
    "# Rename startTime to startTime_CME and activityID to cmeID\n",
    "expanded_df = expanded_df.rename(columns={\"startTime\": \"startTime_CME\", \"activityID\": \"cmeID\"})\n",
    "\n",
    "\n",
    "# Drop linkedEvents\n",
    "expanded_df = expanded_df.drop(columns=[\"linkedEvent\"])\n",
    "\n",
    "\n",
    "# Verify that all steps were executed correctly\n",
    "print(expanded_df.dtypes)\n",
    "\n"
   ]
  },
  {
   "cell_type": "code",
   "execution_count": 15,
   "metadata": {},
   "outputs": [
    {
     "name": "stdout",
     "output_type": "stream",
     "text": [
      "                           cmeID             startTime_CME  \\\n",
      "21   2013-06-02T20:24:00-CME-001 2013-06-02 20:24:00+00:00   \n",
      "48   2013-09-29T22:40:00-CME-001 2013-09-29 22:40:00+00:00   \n",
      "90   2013-12-04T23:12:00-CME-001 2013-12-04 23:12:00+00:00   \n",
      "148  2014-02-16T14:15:00-CME-001 2014-02-16 14:15:00+00:00   \n",
      "151  2014-02-18T01:25:00-CME-001 2014-02-18 01:25:00+00:00   \n",
      "\n",
      "                  GST_ActivityID  \n",
      "21   2013-06-07T03:00:00-GST-001  \n",
      "48   2013-10-02T03:00:00-GST-001  \n",
      "90   2013-12-08T00:00:00-GST-001  \n",
      "148  2014-02-19T03:00:00-GST-001  \n",
      "151  2014-02-20T03:00:00-GST-001  \n"
     ]
    }
   ],
   "source": [
    "# We are only interested in CMEs related to GSTs so keep only rows where the GST_ActivityID column contains 'GST'\n",
    "expanded_df = expanded_df[expanded_df[\"GST_ActivityID\"].str.contains(\"GST\")]\n",
    "print(expanded_df.head())\n",
    "\n",
    "\n",
    "\n",
    "\n",
    "\n",
    "\n",
    "\n",
    "\n"
   ]
  },
  {
   "cell_type": "markdown",
   "metadata": {},
   "source": [
    "### GST Data"
   ]
  },
  {
   "cell_type": "code",
   "execution_count": 16,
   "metadata": {},
   "outputs": [],
   "source": [
    "# Set the base URL to NASA's DONKI API:\n",
    "base_url = \"https://api.nasa.gov/DONKI/\"\n",
    "\n",
    "\n",
    "# Set the specifier for Geomagnetic Storms (GST):\n",
    "GST = \"GST\"\n",
    "\n",
    "\n",
    "# Search for GSTs between a begin and end date\n",
    "startDate = \"2013-05-01\"\n",
    "endDate   = \"2024-05-01\"\n",
    "\n",
    "\n",
    "# Build URL for GST\n",
    "url = f\"{base_url}{GST}?startDate={startDate}&endDate={endDate}&api_key={NASA_API_KEY}\"\n",
    "\n"
   ]
  },
  {
   "cell_type": "code",
   "execution_count": 17,
   "metadata": {},
   "outputs": [],
   "source": [
    "# Make a \"GET\" request for the GST URL and store it in a variable named gst_response\n",
    "gst_response = requests.get(url)\n",
    "\n",
    "\n"
   ]
  },
  {
   "cell_type": "code",
   "execution_count": null,
   "metadata": {},
   "outputs": [],
   "source": []
  },
  {
   "cell_type": "code",
   "execution_count": 18,
   "metadata": {},
   "outputs": [
    {
     "name": "stdout",
     "output_type": "stream",
     "text": [
      "{\n",
      "    \"gstID\": \"2014-09-12T15:00:00-GST-001\",\n",
      "    \"startTime\": \"2014-09-12T15:00Z\",\n",
      "    \"allKpIndex\": [\n",
      "        {\n",
      "            \"observedTime\": \"2014-09-12T18:00Z\",\n",
      "            \"kpIndex\": 6.0,\n",
      "            \"source\": \"NOAA\"\n",
      "        },\n",
      "        {\n",
      "            \"observedTime\": \"2014-09-13T00:00Z\",\n",
      "            \"kpIndex\": 7.0,\n",
      "            \"source\": \"NOAA\"\n",
      "        }\n",
      "    ],\n",
      "    \"link\": \"https://webtools.ccmc.gsfc.nasa.gov/DONKI/view/GST/6639/-1\",\n",
      "    \"linkedEvents\": [\n",
      "        {\n",
      "            \"activityID\": \"2014-09-10T18:18:00-CME-001\"\n",
      "        },\n",
      "        {\n",
      "            \"activityID\": \"2014-09-12T15:26:00-IPS-001\"\n",
      "        }\n",
      "    ],\n",
      "    \"submissionTime\": \"2014-09-12T18:11Z\",\n",
      "    \"versionId\": 1\n",
      "}\n"
     ]
    }
   ],
   "source": [
    "# Convert the response variable to json and store it as a variable named gst_json\n",
    "gst_json = gst_response.json()\n",
    "\n",
    "\n",
    "# Preview the first result in JSON format\n",
    "\n",
    "\n",
    "# Use json.dumps with argument indent=4 to format data\n",
    "print(json.dumps(gst_json[10], indent=4 ))\n",
    "\n",
    "\n"
   ]
  },
  {
   "cell_type": "code",
   "execution_count": 19,
   "metadata": {},
   "outputs": [
    {
     "name": "stdout",
     "output_type": "stream",
     "text": [
      "                         gstID          startTime  \\\n",
      "0  2013-06-01T01:00:00-GST-001  2013-06-01T01:00Z   \n",
      "1  2013-06-07T03:00:00-GST-001  2013-06-07T03:00Z   \n",
      "2  2013-06-29T03:00:00-GST-001  2013-06-29T03:00Z   \n",
      "3  2013-10-02T03:00:00-GST-001  2013-10-02T03:00Z   \n",
      "4  2013-12-08T00:00:00-GST-001  2013-12-08T00:00Z   \n",
      "\n",
      "                                          allKpIndex  \\\n",
      "0  [{'observedTime': '2013-06-01T01:00Z', 'kpInde...   \n",
      "1  [{'observedTime': '2013-06-07T03:00Z', 'kpInde...   \n",
      "2  [{'observedTime': '2013-06-29T03:00Z', 'kpInde...   \n",
      "3  [{'observedTime': '2013-10-02T06:00Z', 'kpInde...   \n",
      "4  [{'observedTime': '2013-12-08T03:00Z', 'kpInde...   \n",
      "\n",
      "                                                link  \\\n",
      "0  https://webtools.ccmc.gsfc.nasa.gov/DONKI/view...   \n",
      "1  https://webtools.ccmc.gsfc.nasa.gov/DONKI/view...   \n",
      "2  https://webtools.ccmc.gsfc.nasa.gov/DONKI/view...   \n",
      "3  https://webtools.ccmc.gsfc.nasa.gov/DONKI/view...   \n",
      "4  https://webtools.ccmc.gsfc.nasa.gov/DONKI/view...   \n",
      "\n",
      "                                        linkedEvents     submissionTime  \\\n",
      "0    [{'activityID': '2013-05-31T15:45:00-HSS-001'}]  2013-07-15T19:26Z   \n",
      "1    [{'activityID': '2013-06-02T20:24:00-CME-001'}]  2013-07-15T19:41Z   \n",
      "2                                               None  2013-09-25T04:48Z   \n",
      "3  [{'activityID': '2013-09-29T22:40:00-CME-001'}...  2013-10-02T13:23Z   \n",
      "4  [{'activityID': '2013-12-04T23:12:00-CME-001'}...  2013-12-08T03:42Z   \n",
      "\n",
      "   versionId  \n",
      "0          1  \n",
      "1          1  \n",
      "2          2  \n",
      "3          1  \n",
      "4          1  \n"
     ]
    }
   ],
   "source": [
    "gst_df = pd.DataFrame(gst_json)\n",
    "print(gst_df.head())"
   ]
  },
  {
   "cell_type": "code",
   "execution_count": 20,
   "metadata": {},
   "outputs": [
    {
     "name": "stdout",
     "output_type": "stream",
     "text": [
      "                         gstID          startTime  \\\n",
      "0  2013-06-01T01:00:00-GST-001  2013-06-01T01:00Z   \n",
      "1  2013-06-07T03:00:00-GST-001  2013-06-07T03:00Z   \n",
      "2  2013-06-29T03:00:00-GST-001  2013-06-29T03:00Z   \n",
      "3  2013-10-02T03:00:00-GST-001  2013-10-02T03:00Z   \n",
      "4  2013-12-08T00:00:00-GST-001  2013-12-08T00:00Z   \n",
      "\n",
      "                                        linkedEvents  \n",
      "0    [{'activityID': '2013-05-31T15:45:00-HSS-001'}]  \n",
      "1    [{'activityID': '2013-06-02T20:24:00-CME-001'}]  \n",
      "2                                               None  \n",
      "3  [{'activityID': '2013-09-29T22:40:00-CME-001'}...  \n",
      "4  [{'activityID': '2013-12-04T23:12:00-CME-001'}...  \n"
     ]
    }
   ],
   "source": [
    "gst_df = gst_df[[\"gstID\", \"startTime\", \"linkedEvents\"]]\n",
    "print(gst_df.head())\n",
    "\n",
    "\n",
    "\n",
    "\n"
   ]
  },
  {
   "cell_type": "code",
   "execution_count": 21,
   "metadata": {},
   "outputs": [
    {
     "name": "stdout",
     "output_type": "stream",
     "text": [
      "                         gstID          startTime  \\\n",
      "0  2013-06-01T01:00:00-GST-001  2013-06-01T01:00Z   \n",
      "1  2013-06-07T03:00:00-GST-001  2013-06-07T03:00Z   \n",
      "3  2013-10-02T03:00:00-GST-001  2013-10-02T03:00Z   \n",
      "4  2013-12-08T00:00:00-GST-001  2013-12-08T00:00Z   \n",
      "5  2014-02-19T03:00:00-GST-001  2014-02-19T03:00Z   \n",
      "\n",
      "                                        linkedEvents  \n",
      "0    [{'activityID': '2013-05-31T15:45:00-HSS-001'}]  \n",
      "1    [{'activityID': '2013-06-02T20:24:00-CME-001'}]  \n",
      "3  [{'activityID': '2013-09-29T22:40:00-CME-001'}...  \n",
      "4  [{'activityID': '2013-12-04T23:12:00-CME-001'}...  \n",
      "5  [{'activityID': '2014-02-16T14:15:00-CME-001'}...  \n"
     ]
    }
   ],
   "source": [
    "# Notice that the linkedEvents column allows us to identify the corresponding CME\n",
    "# We will need to extract the CME from the linkedEvents column\n",
    "# Let's preview the first row in the linkedEvents column\n",
    "\n",
    "\n",
    "# Remove rows with missing 'linkedEvents' since we won't be able to assign these to CME\n",
    "gst_df = gst_df.dropna(subset=[\"linkedEvents\"])\n",
    "print(gst_df.head())\n"
   ]
  },
  {
   "cell_type": "code",
   "execution_count": 22,
   "metadata": {},
   "outputs": [
    {
     "name": "stdout",
     "output_type": "stream",
     "text": [
      "                           gstID          startTime  \\\n",
      "0    2013-06-01T01:00:00-GST-001  2013-06-01T01:00Z   \n",
      "1    2013-06-07T03:00:00-GST-001  2013-06-07T03:00Z   \n",
      "2    2013-10-02T03:00:00-GST-001  2013-10-02T03:00Z   \n",
      "3    2013-10-02T03:00:00-GST-001  2013-10-02T03:00Z   \n",
      "4    2013-10-02T03:00:00-GST-001  2013-10-02T03:00Z   \n",
      "..                           ...                ...   \n",
      "200  2024-03-24T12:00:00-GST-001  2024-03-24T12:00Z   \n",
      "201  2024-03-24T12:00:00-GST-001  2024-03-24T12:00Z   \n",
      "202  2024-03-24T12:00:00-GST-001  2024-03-24T12:00Z   \n",
      "203  2024-04-19T18:00:00-GST-001  2024-04-19T18:00Z   \n",
      "204  2024-04-19T18:00:00-GST-001  2024-04-19T18:00Z   \n",
      "\n",
      "                                      linkedEvents  \n",
      "0    {'activityID': '2013-05-31T15:45:00-HSS-001'}  \n",
      "1    {'activityID': '2013-06-02T20:24:00-CME-001'}  \n",
      "2    {'activityID': '2013-09-29T22:40:00-CME-001'}  \n",
      "3    {'activityID': '2013-10-02T01:54:00-IPS-001'}  \n",
      "4    {'activityID': '2013-10-02T02:47:00-MPC-001'}  \n",
      "..                                             ...  \n",
      "200  {'activityID': '2024-03-23T01:48:00-CME-001'}  \n",
      "201  {'activityID': '2024-03-24T14:10:00-IPS-001'}  \n",
      "202  {'activityID': '2024-03-24T16:25:00-MPC-001'}  \n",
      "203  {'activityID': '2024-04-15T06:48:00-CME-001'}  \n",
      "204  {'activityID': '2024-04-19T04:53:00-IPS-001'}  \n",
      "\n",
      "[205 rows x 3 columns]\n"
     ]
    }
   ],
   "source": [
    "# Notice that the linkedEvents sometimes contains multiple events per row\n",
    "# We will need to expand these rows into multiple rows\n",
    "# Let's preview the first row in the linkedEvents column\n",
    "# Use the explode method to ensure that each row is one element. Ensure to reset the index and drop missing values.\n",
    "gst_df = gst_df.explode(\"linkedEvents\",ignore_index=True).dropna()\n",
    "print(gst_df)\n"
   ]
  },
  {
   "cell_type": "code",
   "execution_count": 23,
   "metadata": {},
   "outputs": [
    {
     "name": "stdout",
     "output_type": "stream",
     "text": [
      "                           gstID          startTime  \\\n",
      "0    2013-06-01T01:00:00-GST-001  2013-06-01T01:00Z   \n",
      "1    2013-06-07T03:00:00-GST-001  2013-06-07T03:00Z   \n",
      "2    2013-10-02T03:00:00-GST-001  2013-10-02T03:00Z   \n",
      "3    2013-10-02T03:00:00-GST-001  2013-10-02T03:00Z   \n",
      "4    2013-10-02T03:00:00-GST-001  2013-10-02T03:00Z   \n",
      "..                           ...                ...   \n",
      "200  2024-03-24T12:00:00-GST-001  2024-03-24T12:00Z   \n",
      "201  2024-03-24T12:00:00-GST-001  2024-03-24T12:00Z   \n",
      "202  2024-03-24T12:00:00-GST-001  2024-03-24T12:00Z   \n",
      "203  2024-04-19T18:00:00-GST-001  2024-04-19T18:00Z   \n",
      "204  2024-04-19T18:00:00-GST-001  2024-04-19T18:00Z   \n",
      "\n",
      "                                      linkedEvents  \\\n",
      "0    {'activityID': '2013-05-31T15:45:00-HSS-001'}   \n",
      "1    {'activityID': '2013-06-02T20:24:00-CME-001'}   \n",
      "2    {'activityID': '2013-09-29T22:40:00-CME-001'}   \n",
      "3    {'activityID': '2013-10-02T01:54:00-IPS-001'}   \n",
      "4    {'activityID': '2013-10-02T02:47:00-MPC-001'}   \n",
      "..                                             ...   \n",
      "200  {'activityID': '2024-03-23T01:48:00-CME-001'}   \n",
      "201  {'activityID': '2024-03-24T14:10:00-IPS-001'}   \n",
      "202  {'activityID': '2024-03-24T16:25:00-MPC-001'}   \n",
      "203  {'activityID': '2024-04-15T06:48:00-CME-001'}   \n",
      "204  {'activityID': '2024-04-19T04:53:00-IPS-001'}   \n",
      "\n",
      "                  CME_ActivityID  \n",
      "0    2013-05-31T15:45:00-HSS-001  \n",
      "1    2013-06-02T20:24:00-CME-001  \n",
      "2    2013-09-29T22:40:00-CME-001  \n",
      "3    2013-10-02T01:54:00-IPS-001  \n",
      "4    2013-10-02T02:47:00-MPC-001  \n",
      "..                           ...  \n",
      "200  2024-03-23T01:48:00-CME-001  \n",
      "201  2024-03-24T14:10:00-IPS-001  \n",
      "202  2024-03-24T16:25:00-MPC-001  \n",
      "203  2024-04-15T06:48:00-CME-001  \n",
      "204  2024-04-19T04:53:00-IPS-001  \n",
      "\n",
      "[205 rows x 4 columns]\n"
     ]
    }
   ],
   "source": [
    "# Apply the extract_activityID_from_dict function to each row in the 'linkedEvents' column (you can use apply() and a lambda function)\n",
    "gst_df.loc[:,\"CME_ActivityID\"] = gst_df[\"linkedEvents\"].apply(lambda x: extract_activityID_from_dict(x))\n",
    "# and create a new column called 'CME_ActivityID' using loc indexer:\n",
    "\n",
    "\n",
    "\n",
    "# Remove rows with missing CME_ActivityID, since we can't assign them to CMEs:\n",
    "gst_df = gst_df.dropna(subset=[\"CME_ActivityID\"])\n",
    "print(gst_df)\n",
    "\n"
   ]
  },
  {
   "cell_type": "code",
   "execution_count": 24,
   "metadata": {},
   "outputs": [
    {
     "name": "stdout",
     "output_type": "stream",
     "text": [
      "gstID                  string[python]\n",
      "startTime_GST     datetime64[ns, UTC]\n",
      "CME_ActivityID         string[python]\n",
      "dtype: object\n"
     ]
    }
   ],
   "source": [
    "# Convert the 'CME_ActivityID' column to string format \n",
    "# Check if 'CME_ActivityID' column exists in the DataFrame before converting it to string format\n",
    "\n",
    "gst_df[\"CME_ActivityID\"] = gst_df[\"CME_ActivityID\"].astype(\"string\")\n",
    "\n",
    "# Verify that all steps were executed correctly\n",
    "\n",
    "gst_df[\"startTime\"] = pd.to_datetime(gst_df[\"startTime\"])\n",
    "\n",
    "\n",
    "# Rename startTime to startTime_GST\n",
    "gst_df = gst_df.rename(columns={\"startTime\": \"startTime_GST\"})\n",
    "\n",
    "# Drop linkedEvents\n",
    "gst_df = gst_df.drop(columns=[\"linkedEvents\"])\n",
    "\n",
    "gst_df[\"gstID\"] = gst_df[\"gstID\"].astype(\"string\")\n",
    "\n",
    "\n",
    "# Verify that all steps were executed correctly\n",
    "print(gst_df.dtypes)\n",
    "\n",
    "\n",
    "\n",
    "\n",
    "\n",
    "\n"
   ]
  },
  {
   "cell_type": "code",
   "execution_count": 31,
   "metadata": {},
   "outputs": [
    {
     "name": "stdout",
     "output_type": "stream",
     "text": [
      "                           gstID             startTime_GST  \\\n",
      "1    2013-06-07T03:00:00-GST-001 2013-06-07 03:00:00+00:00   \n",
      "2    2013-10-02T03:00:00-GST-001 2013-10-02 03:00:00+00:00   \n",
      "5    2013-12-08T00:00:00-GST-001 2013-12-08 00:00:00+00:00   \n",
      "7    2014-02-19T03:00:00-GST-001 2014-02-19 03:00:00+00:00   \n",
      "9    2014-02-20T03:00:00-GST-001 2014-02-20 03:00:00+00:00   \n",
      "..                           ...                       ...   \n",
      "192  2023-12-18T06:00:00-GST-001 2023-12-18 06:00:00+00:00   \n",
      "195  2024-03-03T18:00:00-GST-001 2024-03-03 18:00:00+00:00   \n",
      "199  2024-03-24T12:00:00-GST-001 2024-03-24 12:00:00+00:00   \n",
      "200  2024-03-24T12:00:00-GST-001 2024-03-24 12:00:00+00:00   \n",
      "203  2024-04-19T18:00:00-GST-001 2024-04-19 18:00:00+00:00   \n",
      "\n",
      "                  CME_ActivityID  \n",
      "1    2013-06-02T20:24:00-CME-001  \n",
      "2    2013-09-29T22:40:00-CME-001  \n",
      "5    2013-12-04T23:12:00-CME-001  \n",
      "7    2014-02-16T14:15:00-CME-001  \n",
      "9    2014-02-18T01:25:00-CME-001  \n",
      "..                           ...  \n",
      "192  2023-12-14T17:38:00-CME-001  \n",
      "195  2024-02-28T17:48:00-CME-001  \n",
      "199  2024-03-23T01:25:00-CME-001  \n",
      "200  2024-03-23T01:48:00-CME-001  \n",
      "203  2024-04-15T06:48:00-CME-001  \n",
      "\n",
      "[61 rows x 3 columns]\n"
     ]
    }
   ],
   "source": [
    "# Check if 'CME_ActivityID' column exists in the DataFrame before filtering\n",
    "\n",
    "gst_df = gst_df[gst_df[\"CME_ActivityID\"].str.contains(\"CME\")]\n",
    "print(gst_df)\n",
    "  \n"
   ]
  },
  {
   "cell_type": "markdown",
   "metadata": {},
   "source": [
    "### Merge both datatsets"
   ]
  },
  {
   "cell_type": "code",
   "execution_count": 32,
   "metadata": {},
   "outputs": [
    {
     "name": "stdout",
     "output_type": "stream",
     "text": [
      "                          gstID             startTime_GST  \\\n",
      "0   2013-06-07T03:00:00-GST-001 2013-06-07 03:00:00+00:00   \n",
      "1   2013-10-02T03:00:00-GST-001 2013-10-02 03:00:00+00:00   \n",
      "2   2013-12-08T00:00:00-GST-001 2013-12-08 00:00:00+00:00   \n",
      "3   2014-02-19T03:00:00-GST-001 2014-02-19 03:00:00+00:00   \n",
      "4   2014-02-20T03:00:00-GST-001 2014-02-20 03:00:00+00:00   \n",
      "..                          ...                       ...   \n",
      "56  2023-12-18T06:00:00-GST-001 2023-12-18 06:00:00+00:00   \n",
      "57  2024-03-03T18:00:00-GST-001 2024-03-03 18:00:00+00:00   \n",
      "58  2024-03-24T12:00:00-GST-001 2024-03-24 12:00:00+00:00   \n",
      "59  2024-03-24T12:00:00-GST-001 2024-03-24 12:00:00+00:00   \n",
      "60  2024-04-19T18:00:00-GST-001 2024-04-19 18:00:00+00:00   \n",
      "\n",
      "                 CME_ActivityID                        cmeID  \\\n",
      "0   2013-06-02T20:24:00-CME-001  2013-06-02T20:24:00-CME-001   \n",
      "1   2013-09-29T22:40:00-CME-001  2013-09-29T22:40:00-CME-001   \n",
      "2   2013-12-04T23:12:00-CME-001  2013-12-04T23:12:00-CME-001   \n",
      "3   2014-02-16T14:15:00-CME-001  2014-02-16T14:15:00-CME-001   \n",
      "4   2014-02-18T01:25:00-CME-001  2014-02-18T01:25:00-CME-001   \n",
      "..                          ...                          ...   \n",
      "56  2023-12-14T17:38:00-CME-001  2023-12-14T17:38:00-CME-001   \n",
      "57  2024-02-28T17:48:00-CME-001  2024-02-28T17:48:00-CME-001   \n",
      "58  2024-03-23T01:25:00-CME-001  2024-03-23T01:25:00-CME-001   \n",
      "59  2024-03-23T01:48:00-CME-001  2024-03-23T01:48:00-CME-001   \n",
      "60  2024-04-15T06:48:00-CME-001  2024-04-15T06:48:00-CME-001   \n",
      "\n",
      "               startTime_CME               GST_ActivityID  \n",
      "0  2013-06-02 20:24:00+00:00  2013-06-07T03:00:00-GST-001  \n",
      "1  2013-09-29 22:40:00+00:00  2013-10-02T03:00:00-GST-001  \n",
      "2  2013-12-04 23:12:00+00:00  2013-12-08T00:00:00-GST-001  \n",
      "3  2014-02-16 14:15:00+00:00  2014-02-19T03:00:00-GST-001  \n",
      "4  2014-02-18 01:25:00+00:00  2014-02-20T03:00:00-GST-001  \n",
      "..                       ...                          ...  \n",
      "56 2023-12-14 17:38:00+00:00  2023-12-18T06:00:00-GST-001  \n",
      "57 2024-02-28 17:48:00+00:00  2024-03-03T18:00:00-GST-001  \n",
      "58 2024-03-23 01:25:00+00:00  2024-03-24T12:00:00-GST-001  \n",
      "59 2024-03-23 01:48:00+00:00  2024-03-24T12:00:00-GST-001  \n",
      "60 2024-04-15 06:48:00+00:00  2024-04-19T18:00:00-GST-001  \n",
      "\n",
      "[61 rows x 6 columns]\n"
     ]
    }
   ],
   "source": [
    "# Now merge both datasets using 'gstID' and 'CME_ActivityID' for gst and 'GST_ActivityID' and 'cmeID' for cme. Use the 'left_on' and 'right_on' specifiers.\n",
    "\n",
    "merged_df = pd.merge(gst_df, expanded_df, left_on=['gstID', 'CME_ActivityID'], right_on=['GST_ActivityID', 'cmeID'])\n",
    "\n",
    "\n",
    "print(merged_df)\n",
    "\n"
   ]
  },
  {
   "cell_type": "code",
   "execution_count": 34,
   "metadata": {},
   "outputs": [
    {
     "name": "stdout",
     "output_type": "stream",
     "text": [
      "<class 'pandas.core.frame.DataFrame'>\n",
      "RangeIndex: 61 entries, 0 to 60\n",
      "Data columns (total 6 columns):\n",
      " #   Column          Non-Null Count  Dtype              \n",
      "---  ------          --------------  -----              \n",
      " 0   gstID           61 non-null     string             \n",
      " 1   startTime_GST   61 non-null     datetime64[ns, UTC]\n",
      " 2   CME_ActivityID  61 non-null     object             \n",
      " 3   cmeID           61 non-null     object             \n",
      " 4   startTime_CME   61 non-null     datetime64[ns, UTC]\n",
      " 5   GST_ActivityID  61 non-null     string             \n",
      "dtypes: datetime64[ns, UTC](2), object(2), string(2)\n",
      "memory usage: 3.0+ KB\n"
     ]
    }
   ],
   "source": [
    "# Verify that the new DataFrame has the same number of rows as cme and gst DataFrames\n",
    "merged_df.info()\n",
    "\n",
    "\n",
    "\n",
    "\n"
   ]
  },
  {
   "cell_type": "markdown",
   "metadata": {},
   "source": [
    "### Computing the time it takes for a CME to cause a GST"
   ]
  },
  {
   "cell_type": "code",
   "execution_count": 35,
   "metadata": {},
   "outputs": [
    {
     "name": "stdout",
     "output_type": "stream",
     "text": [
      "                          gstID             startTime_GST  \\\n",
      "0   2013-06-07T03:00:00-GST-001 2013-06-07 03:00:00+00:00   \n",
      "1   2013-10-02T03:00:00-GST-001 2013-10-02 03:00:00+00:00   \n",
      "2   2013-12-08T00:00:00-GST-001 2013-12-08 00:00:00+00:00   \n",
      "3   2014-02-19T03:00:00-GST-001 2014-02-19 03:00:00+00:00   \n",
      "4   2014-02-20T03:00:00-GST-001 2014-02-20 03:00:00+00:00   \n",
      "..                          ...                       ...   \n",
      "56  2023-12-18T06:00:00-GST-001 2023-12-18 06:00:00+00:00   \n",
      "57  2024-03-03T18:00:00-GST-001 2024-03-03 18:00:00+00:00   \n",
      "58  2024-03-24T12:00:00-GST-001 2024-03-24 12:00:00+00:00   \n",
      "59  2024-03-24T12:00:00-GST-001 2024-03-24 12:00:00+00:00   \n",
      "60  2024-04-19T18:00:00-GST-001 2024-04-19 18:00:00+00:00   \n",
      "\n",
      "                 CME_ActivityID                        cmeID  \\\n",
      "0   2013-06-02T20:24:00-CME-001  2013-06-02T20:24:00-CME-001   \n",
      "1   2013-09-29T22:40:00-CME-001  2013-09-29T22:40:00-CME-001   \n",
      "2   2013-12-04T23:12:00-CME-001  2013-12-04T23:12:00-CME-001   \n",
      "3   2014-02-16T14:15:00-CME-001  2014-02-16T14:15:00-CME-001   \n",
      "4   2014-02-18T01:25:00-CME-001  2014-02-18T01:25:00-CME-001   \n",
      "..                          ...                          ...   \n",
      "56  2023-12-14T17:38:00-CME-001  2023-12-14T17:38:00-CME-001   \n",
      "57  2024-02-28T17:48:00-CME-001  2024-02-28T17:48:00-CME-001   \n",
      "58  2024-03-23T01:25:00-CME-001  2024-03-23T01:25:00-CME-001   \n",
      "59  2024-03-23T01:48:00-CME-001  2024-03-23T01:48:00-CME-001   \n",
      "60  2024-04-15T06:48:00-CME-001  2024-04-15T06:48:00-CME-001   \n",
      "\n",
      "               startTime_CME               GST_ActivityID        timeDiff  \n",
      "0  2013-06-02 20:24:00+00:00  2013-06-07T03:00:00-GST-001 4 days 06:36:00  \n",
      "1  2013-09-29 22:40:00+00:00  2013-10-02T03:00:00-GST-001 2 days 04:20:00  \n",
      "2  2013-12-04 23:12:00+00:00  2013-12-08T00:00:00-GST-001 3 days 00:48:00  \n",
      "3  2014-02-16 14:15:00+00:00  2014-02-19T03:00:00-GST-001 2 days 12:45:00  \n",
      "4  2014-02-18 01:25:00+00:00  2014-02-20T03:00:00-GST-001 2 days 01:35:00  \n",
      "..                       ...                          ...             ...  \n",
      "56 2023-12-14 17:38:00+00:00  2023-12-18T06:00:00-GST-001 3 days 12:22:00  \n",
      "57 2024-02-28 17:48:00+00:00  2024-03-03T18:00:00-GST-001 4 days 00:12:00  \n",
      "58 2024-03-23 01:25:00+00:00  2024-03-24T12:00:00-GST-001 1 days 10:35:00  \n",
      "59 2024-03-23 01:48:00+00:00  2024-03-24T12:00:00-GST-001 1 days 10:12:00  \n",
      "60 2024-04-15 06:48:00+00:00  2024-04-19T18:00:00-GST-001 4 days 11:12:00  \n",
      "\n",
      "[61 rows x 7 columns]\n"
     ]
    }
   ],
   "source": [
    "# Compute the time diff between startTime_GST and startTime_CME by creating a new column called `timeDiff`.\n",
    "merged_df[\"timeDiff\"] = merged_df[\"startTime_GST\"] - merged_df[\"startTime_CME\"]\n",
    "print(merged_df)\n"
   ]
  },
  {
   "cell_type": "code",
   "execution_count": 36,
   "metadata": {},
   "outputs": [
    {
     "name": "stdout",
     "output_type": "stream",
     "text": [
      "count                           61\n",
      "mean     2 days 23:29:26.557377049\n",
      "std      0 days 23:53:09.336914240\n",
      "min                1 days 08:36:00\n",
      "25%                2 days 04:00:00\n",
      "50%                2 days 19:51:00\n",
      "75%                3 days 13:35:00\n",
      "max                6 days 03:00:00\n",
      "Name: timeDiff, dtype: object\n"
     ]
    }
   ],
   "source": [
    "# Use describe() to compute the mean and median time \n",
    "print(merged_df[\"timeDiff\"].describe())\n",
    "\n",
    "\n"
   ]
  },
  {
   "cell_type": "markdown",
   "metadata": {},
   "source": [
    "### Exporting data in csv format"
   ]
  },
  {
   "cell_type": "code",
   "execution_count": 37,
   "metadata": {},
   "outputs": [],
   "source": [
    "# Export data to CSV without the index\n",
    "merged_df.to_csv(\"merged_df.csv\", index=False)\n",
    "\n",
    "\n"
   ]
  }
 ],
 "metadata": {
  "kernelspec": {
   "display_name": "Python 3 (ipykernel)",
   "language": "python",
   "name": "python3"
  },
  "language_info": {
   "codemirror_mode": {
    "name": "ipython",
    "version": 3
   },
   "file_extension": ".py",
   "mimetype": "text/x-python",
   "name": "python",
   "nbconvert_exporter": "python",
   "pygments_lexer": "ipython3",
   "version": "3.10.14"
  },
  "varInspector": {
   "cols": {
    "lenName": 16,
    "lenType": 16,
    "lenVar": 40
   },
   "kernels_config": {
    "python": {
     "delete_cmd_postfix": "",
     "delete_cmd_prefix": "del ",
     "library": "var_list.py",
     "varRefreshCmd": "print(var_dic_list())"
    },
    "r": {
     "delete_cmd_postfix": ") ",
     "delete_cmd_prefix": "rm(",
     "library": "var_list.r",
     "varRefreshCmd": "cat(var_dic_list()) "
    }
   },
   "types_to_exclude": [
    "module",
    "function",
    "builtin_function_or_method",
    "instance",
    "_Feature"
   ],
   "window_display": false
  }
 },
 "nbformat": 4,
 "nbformat_minor": 4
}
